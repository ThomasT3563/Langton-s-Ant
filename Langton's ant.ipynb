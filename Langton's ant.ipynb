{
 "cells": [
  {
   "cell_type": "markdown",
   "metadata": {},
   "source": [
    "# IMPORTS"
   ]
  },
  {
   "cell_type": "code",
   "execution_count": 1,
   "metadata": {},
   "outputs": [],
   "source": [
    "import matplotlib\n",
    "import matplotlib.pyplot as plt\n",
    "import matplotlib.animation as animation\n",
    "import numpy as np"
   ]
  },
  {
   "cell_type": "markdown",
   "metadata": {},
   "source": [
    "# CLASSES"
   ]
  },
  {
   "cell_type": "code",
   "execution_count": 2,
   "metadata": {},
   "outputs": [],
   "source": [
    "class Fourmi_Langton(object):\n",
    "    \n",
    "    def __init__(self,position_initiale):\n",
    "        \n",
    "        self.direction = 0 # as 0=North, 1=East, 2=South, 3=West\n",
    "        self.x = position_initiale[0]\n",
    "        self.y = position_initiale[1]\n",
    "        \n",
    "    def deplacement(self,board):\n",
    "                \n",
    "        if board.grid[self.x][self.y]==0:\n",
    "            self.direction = (self.direction-1)%4\n",
    "            board.change_case(self.x,self.y)\n",
    "            self.step_forward()\n",
    "            \n",
    "        elif board.grid[self.x][self.y]==1:\n",
    "            self.direction = (self.direction+1)%4\n",
    "            board.change_case(self.x,self.y)\n",
    "            self.step_forward()\n",
    "        \n",
    "        else:\n",
    "            sys.exit(\"incorrect board value : %s\" % board[self.x][self.y])\n",
    "    \n",
    "    def step_forward(self):\n",
    "        if self.direction==0:\n",
    "            self.y += 1\n",
    "        elif self.direction==1:\n",
    "            self.x += 1\n",
    "        elif self.direction==2:\n",
    "            self.y -= 1\n",
    "        elif self.direction==3:\n",
    "            self.x -= 1\n",
    "        else:\n",
    "            sys.exit(\"incorrect direction : %s %\" % self.direction)"
   ]
  },
  {
   "cell_type": "code",
   "execution_count": 3,
   "metadata": {},
   "outputs": [],
   "source": [
    "class Board(object):\n",
    "    \n",
    "    def __init__(self,dimensions):\n",
    "        \n",
    "        #self.grid = np.round(np.random.rand(dimensions[0],dimensions[1]))\n",
    "        self.grid = np.zeros(dimensions,dtype=bool)\n",
    "        \n",
    "    def change_case(self,posX,posY):\n",
    "        \n",
    "        self.grid[posX][posY] = not self.grid[posX][posY]"
   ]
  },
  {
   "cell_type": "markdown",
   "metadata": {},
   "source": [
    "# MAIN"
   ]
  },
  {
   "cell_type": "code",
   "execution_count": 4,
   "metadata": {},
   "outputs": [
    {
     "name": "stdout",
     "output_type": "stream",
     "text": [
      "iteration : 50 / 50\n",
      "Done!\n"
     ]
    }
   ],
   "source": [
    "# parameters\n",
    "dimensions = [60,60]\n",
    "frames = 50\n",
    "iterations = 5000\n",
    "\n",
    "# initialisation\n",
    "fourmi = Fourmi_Langton(position_initiale=(int(dimensions[0]/2),int(dimensions[1]/2)))\n",
    "board = Board(dimensions)\n",
    "\n",
    "# initialisation figure\n",
    "matplotlib.rc('xtick', labelsize=0) \n",
    "matplotlib.rc('ytick', labelsize=0)\n",
    "\n",
    "fig = plt.figure(figsize=(6,6))\n",
    "fig.set_tight_layout(True)\n",
    "ax = fig.add_subplot(111,xlim=(0.5,dimensions[0]/2-0.5), ylim=(0.5,dimensions[0]/2-0.5),\n",
    "                     xticks=np.arange(0.5,dimensions[0],1),yticks=np.arange(0.5,dimensions[1],1))\n",
    "ax.grid(b=True,color='lightgrey', linestyle='-', linewidth=1.5)\n",
    "\n",
    "anim_damier = ax.imshow(board.grid,cmap=plt.cm.Greys,origin=\"lower\",vmin=0, vmax=1)\n",
    "anim_fourmi, = ax.plot([],[], color='red',markersize=10)\n",
    "\n",
    "def init():\n",
    "    \n",
    "    # initialisation animation\n",
    "    global fourmi, board\n",
    "    \n",
    "    anim_fourmi.set_data([],[])\n",
    "    anim_damier.set_data(board.grid)\n",
    "    anim_title = ax.set_title(\"                               LANGTON'S ANT   iteration %5i/%5i\" % (0,iterations))\n",
    "    return anim_damier,anim_fourmi,anim_title\n",
    "    \n",
    "def animate(i):\n",
    "    \n",
    "    print(\"\\riteration : %i / %i\" % (i+1,frames),end='')\n",
    "    it = int(i/frames*iterations)\n",
    "\n",
    "    global fourmi, board\n",
    "\n",
    "    anim_fourmi.set_data([fourmi.y],[fourmi.x])\n",
    "    anim_fourmi.set_marker(['>','^','<','v'][fourmi.direction])\n",
    "    anim_damier.set_array(board.grid)\n",
    "    anim_title = ax.set_title(\"                               LANGTON'S ANT   iteration %5i/%5i\" % (it,iterations))\n",
    "\n",
    "    # iterations des opérations\n",
    "    for _ in range(int(iterations/frames)):\n",
    "        fourmi.deplacement(board)\n",
    "\n",
    "    return anim_damier,anim_fourmi,anim_title\n",
    "    \n",
    "anim = matplotlib.animation.FuncAnimation(fig, animate, init_func=init, frames=frames, interval=250, blit=True)\n",
    "anim.save('langton_ant_%s.gif' % iterations, writer='imagemagick')\n",
    "\n",
    "plt.close()\n",
    "\n",
    "print(\"\\nDone!\")"
   ]
  }
 ],
 "metadata": {
  "kernelspec": {
   "display_name": "Python 3",
   "language": "python",
   "name": "python3"
  },
  "language_info": {
   "codemirror_mode": {
    "name": "ipython",
    "version": 3
   },
   "file_extension": ".py",
   "mimetype": "text/x-python",
   "name": "python",
   "nbconvert_exporter": "python",
   "pygments_lexer": "ipython3",
   "version": "3.6.8"
  }
 },
 "nbformat": 4,
 "nbformat_minor": 2
}
